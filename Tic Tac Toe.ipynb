{
 "cells": [
  {
   "cell_type": "code",
   "execution_count": 3,
   "id": "6bd6342d",
   "metadata": {},
   "outputs": [],
   "source": [
    "board = [\" \", \" \", \" \",\n",
    "         \" \",\" \",\" \",\n",
    "         \" \",\" \",\" \"]"
   ]
  },
  {
   "cell_type": "code",
   "execution_count": 4,
   "id": "632ea92f",
   "metadata": {},
   "outputs": [
    {
     "data": {
      "text/plain": [
       "[' ', ' ', ' ', ' ', ' ', ' ', ' ', ' ', ' ']"
      ]
     },
     "execution_count": 4,
     "metadata": {},
     "output_type": "execute_result"
    }
   ],
   "source": [
    "board"
   ]
  },
  {
   "cell_type": "code",
   "execution_count": 7,
   "id": "4986d516",
   "metadata": {},
   "outputs": [],
   "source": [
    "def print_board():\n",
    "    print(board[0] + \" | \" + board[1] + \" | \" + board[2])\n",
    "    print('---------')\n",
    "    print(board[3] + \" | \" + board[4] + \" | \" + board[5])\n",
    "    print('---------')\n",
    "    print(board[6] + \" | \" + board[7] + \" | \" + board[8])\n",
    "    "
   ]
  },
  {
   "cell_type": "code",
   "execution_count": 8,
   "id": "236274c8",
   "metadata": {},
   "outputs": [
    {
     "name": "stdout",
     "output_type": "stream",
     "text": [
      "  |   |  \n",
      "---------\n",
      "  |   |  \n",
      "---------\n",
      "  |   |  \n"
     ]
    }
   ],
   "source": [
    "print_board()"
   ]
  },
  {
   "cell_type": "code",
   "execution_count": 9,
   "id": "20e22881",
   "metadata": {},
   "outputs": [],
   "source": [
    "def check_win(player):\n",
    "    if board[0] == board[1] == board[2] == player or \\\n",
    "       board[3] == board[4] == board[5] == player or \\\n",
    "       board[6] == board[7] == board[8] == player:\n",
    "        return True\n",
    "    if board[0] == board[3] == board[6] == player or \\\n",
    "       board[1] == board[4] == board[7] == player or \\\n",
    "       board[2] == board[5] == board[8] == player:\n",
    "        return True\n",
    "    if board[0] == board[4] == board[8] == player or \\\n",
    "       board[2] == board[4] == board[6] == player:\n",
    "        return True\n",
    "    else:\n",
    "        return False"
   ]
  },
  {
   "cell_type": "code",
   "execution_count": 10,
   "id": "267e4c0a",
   "metadata": {},
   "outputs": [],
   "source": [
    "current_player = 'X'"
   ]
  },
  {
   "cell_type": "code",
   "execution_count": 11,
   "id": "a366c594",
   "metadata": {},
   "outputs": [
    {
     "name": "stdout",
     "output_type": "stream",
     "text": [
      "  |   |  \n",
      "---------\n",
      "  |   |  \n",
      "---------\n",
      "  |   |  \n",
      "Enter the numberd\n",
      "Enter the numberh\n",
      "Enter the number5\n",
      "  |   |  \n",
      "---------\n",
      "  | X |  \n",
      "---------\n",
      "  |   |  \n",
      "Enter the number5\n",
      "This position is occupied. Choose another position.\n",
      "  |   |  \n",
      "---------\n",
      "  | X |  \n",
      "---------\n",
      "  |   |  \n",
      "Enter the number7\n",
      "  |   |  \n",
      "---------\n",
      "  | X |  \n",
      "---------\n",
      "O |   |  \n",
      "Enter the number8\n",
      "  |   |  \n",
      "---------\n",
      "  | X |  \n",
      "---------\n",
      "O | X |  \n",
      "Enter the number2\n",
      "  | O |  \n",
      "---------\n",
      "  | X |  \n",
      "---------\n",
      "O | X |  \n",
      "Enter the number9\n",
      "  | O |  \n",
      "---------\n",
      "  | X |  \n",
      "---------\n",
      "O | X | X\n",
      "Enter the number1\n",
      "O | O |  \n",
      "---------\n",
      "  | X |  \n",
      "---------\n",
      "O | X | X\n",
      "Enter the number4\n",
      "O | O |  \n",
      "---------\n",
      "X | X |  \n",
      "---------\n",
      "O | X | X\n",
      "Enter the number3\n",
      "O | O | O\n",
      "---------\n",
      "X | X |  \n",
      "---------\n",
      "O | X | X\n",
      "O wins!\n"
     ]
    }
   ],
   "source": [
    "while True:\n",
    "    print_board()\n",
    "    \n",
    "    move = input('Enter the number')\n",
    "    \n",
    "    while move not in '123456789':\n",
    "        move = input('Enter the number')\n",
    "        \n",
    "    move = int(move) -1\n",
    "    \n",
    "    if board[move] != ' ':\n",
    "        print('This position is occupied. Choose another position.')\n",
    "        continue\n",
    "    board[move] = current_player\n",
    "    \n",
    "    if check_win(current_player):\n",
    "        board[move] = current_player\n",
    "        print_board()\n",
    "        print(f\"{current_player} wins!\")\n",
    "        break\n",
    "        \n",
    "    if \" \" not in board:\n",
    "        print_board()\n",
    "        print('It is a Tie')\n",
    "        break\n",
    "        \n",
    "    if current_player == 'X':\n",
    "        current_player = 'O'\n",
    "    else:\n",
    "        current_player = 'X'"
   ]
  },
  {
   "cell_type": "code",
   "execution_count": null,
   "id": "93f47fa6",
   "metadata": {},
   "outputs": [],
   "source": []
  }
 ],
 "metadata": {
  "kernelspec": {
   "display_name": "Python 3 (ipykernel)",
   "language": "python",
   "name": "python3"
  },
  "language_info": {
   "codemirror_mode": {
    "name": "ipython",
    "version": 3
   },
   "file_extension": ".py",
   "mimetype": "text/x-python",
   "name": "python",
   "nbconvert_exporter": "python",
   "pygments_lexer": "ipython3",
   "version": "3.9.13"
  }
 },
 "nbformat": 4,
 "nbformat_minor": 5
}
