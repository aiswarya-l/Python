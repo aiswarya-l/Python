{
 "cells": [
  {
   "cell_type": "markdown",
   "id": "e3c690ab-bb7d-40b2-b2b4-bf3e100c77a6",
   "metadata": {},
   "source": [
    "### Rock Paper Scissors (simple)"
   ]
  },
  {
   "cell_type": "code",
   "execution_count": 4,
   "id": "4e28f683-a73a-4ff0-8b6f-51b1d4b401bb",
   "metadata": {},
   "outputs": [
    {
     "name": "stdin",
     "output_type": "stream",
     "text": [
      "Enter the number of rounds to play (positive integer):  5\n",
      "\n",
      "Round 1: Choose Rock, Paper, or Scissors:  paper\n"
     ]
    },
    {
     "name": "stdout",
     "output_type": "stream",
     "text": [
      "You lose.\n",
      "Computer chose: Scissors\n"
     ]
    },
    {
     "name": "stdin",
     "output_type": "stream",
     "text": [
      "\n",
      "Round 2: Choose Rock, Paper, or Scissors:  cloth\n"
     ]
    },
    {
     "name": "stdout",
     "output_type": "stream",
     "text": [
      "Invalid choice. Please choose Rock, Paper, or Scissors.\n"
     ]
    },
    {
     "name": "stdin",
     "output_type": "stream",
     "text": [
      "\n",
      "Round 3: Choose Rock, Paper, or Scissors:  rock\n"
     ]
    },
    {
     "name": "stdout",
     "output_type": "stream",
     "text": [
      "You win!\n",
      "Computer chose: Scissors\n"
     ]
    },
    {
     "name": "stdin",
     "output_type": "stream",
     "text": [
      "\n",
      "Round 4: Choose Rock, Paper, or Scissors:  scissors\n"
     ]
    },
    {
     "name": "stdout",
     "output_type": "stream",
     "text": [
      "You win!\n",
      "Computer chose: Paper\n"
     ]
    },
    {
     "name": "stdin",
     "output_type": "stream",
     "text": [
      "\n",
      "Round 5: Choose Rock, Paper, or Scissors:  rock\n"
     ]
    },
    {
     "name": "stdout",
     "output_type": "stream",
     "text": [
      "It's a tie!\n",
      "Computer chose: Rock\n",
      "\n",
      "You won the game with a score of 2 to 1!\n"
     ]
    }
   ],
   "source": [
    "import random\n",
    "\n",
    "options = [\"Rock\", \"Paper\", \"Scissors\"]\n",
    "\n",
    "def play_round(user_choice, computer_choice):\n",
    "  if user_choice == computer_choice:\n",
    "    return \"Tie\"\n",
    "  elif user_choice == \"Rock\":\n",
    "    if computer_choice == \"Scissors\":\n",
    "      return \"Win\"\n",
    "    else:\n",
    "      return \"Lose\"\n",
    "  elif user_choice == \"Paper\":\n",
    "    if computer_choice == \"Rock\":\n",
    "      return \"Win\"\n",
    "    else:\n",
    "      return \"Lose\"\n",
    "  elif user_choice == \"Scissors\":\n",
    "    if computer_choice == \"Paper\":\n",
    "      return \"Win\"\n",
    "    else:\n",
    "      return \"Lose\"\n",
    "\n",
    "\n",
    "while True:\n",
    "  try:\n",
    "    num_rounds = int(input(\"Enter the number of rounds to play (positive integer): \"))\n",
    "    if num_rounds <= 0:\n",
    "      print(\"Invalid number of rounds. Please enter a positive integer.\")\n",
    "    else:\n",
    "      break\n",
    "  except ValueError:\n",
    "    print(\"Invalid input. Please enter a number.\")\n",
    "\n",
    "player_score = 0\n",
    "computer_score = 0\n",
    "\n",
    "\n",
    "for round_num in range(1, num_rounds + 1):\n",
    "  user_choice = input(f\"\\nRound {round_num}: Choose Rock, Paper, or Scissors: \").capitalize()\n",
    "\n",
    "  if user_choice not in options:\n",
    "    print(\"Invalid choice. Please choose Rock, Paper, or Scissors.\")\n",
    "    continue \n",
    "\n",
    "  computer_choice = random.choice(options)\n",
    "\n",
    "  round_winner = play_round(user_choice, computer_choice)\n",
    "\n",
    "  if round_winner == \"Win\":\n",
    "    player_score += 1\n",
    "    print(\"You win!\")\n",
    "  elif round_winner == \"Lose\":\n",
    "    computer_score += 1\n",
    "    print(\"You lose.\")\n",
    "  else:\n",
    "    print(\"It's a tie!\")\n",
    "\n",
    "  print(f\"Computer chose: {computer_choice}\")\n",
    "\n",
    "if player_score > computer_score:\n",
    "  print(f\"\\nYou won the game with a score of {player_score} to {computer_score}!\")\n",
    "elif player_score < computer_score:\n",
    "  print(f\"\\nYou lost the game with a score of {player_score} to {computer_score}.\")\n",
    "else:\n",
    "  print(f\"\\nThe game is a tie! You both scored {player_score} points.\")\n"
   ]
  },
  {
   "cell_type": "code",
   "execution_count": null,
   "id": "046a774d-d86b-498c-941b-0ca8bcf1c0c9",
   "metadata": {},
   "outputs": [],
   "source": []
  },
  {
   "cell_type": "code",
   "execution_count": null,
   "id": "f72af1b8-8356-4e77-bd7c-287fb5b5a300",
   "metadata": {},
   "outputs": [],
   "source": []
  }
 ],
 "metadata": {
  "kernelspec": {
   "display_name": "Python 3 (ipykernel)",
   "language": "python",
   "name": "python3"
  },
  "language_info": {
   "codemirror_mode": {
    "name": "ipython",
    "version": 3
   },
   "file_extension": ".py",
   "mimetype": "text/x-python",
   "name": "python",
   "nbconvert_exporter": "python",
   "pygments_lexer": "ipython3",
   "version": "3.11.7"
  }
 },
 "nbformat": 4,
 "nbformat_minor": 5
}
